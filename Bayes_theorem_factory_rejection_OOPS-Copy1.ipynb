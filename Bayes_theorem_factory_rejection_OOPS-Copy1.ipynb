{
 "cells": [
  {
   "cell_type": "code",
   "execution_count": 22,
   "metadata": {
    "collapsed": true
   },
   "outputs": [],
   "source": [
    "import numpy as np"
   ]
  },
  {
   "cell_type": "code",
   "execution_count": 25,
   "metadata": {},
   "outputs": [],
   "source": [
    "class bayes:\n",
    "    def get_fact(self):\n",
    "        gen_fact = [[] for i in range (2)]\n",
    "        for i in range (10000):\n",
    "            gen_fact[np.random.randint(0,2,1)[0]].append(1)\n",
    "\n",
    "        self.factory = [ sum(i) for i in gen_fact]        \n",
    "        print(self.factory)\n",
    "\n",
    "    def get_rej(self):\n",
    "        gen_rej = [[] for i in range (2)]\n",
    "        for i in range(1000):\n",
    "            gen_rej[np.random.randint(0,2,1)[0]].append(1)\n",
    "\n",
    "        self.rejection  = [ sum(i) for i in gen_rej]        \n",
    "        print(self.rejection)\n",
    "\n",
    "    def calc_prob(self, fact ):\n",
    "        \n",
    "        self.n = []\n",
    "        \n",
    "        for i in range (len(self.factory)):            \n",
    "            self.n.append((1/len(self.factory)*(self.rejection[i]/ self.factory[i])))\n",
    "        self.d = sum(self.n)\n",
    "            \n",
    "        return self.n[fact-1]/ self.d\n",
    "        #return(self.p)"
   ]
  },
  {
   "cell_type": "code",
   "execution_count": 27,
   "metadata": {},
   "outputs": [
    {
     "name": "stdout",
     "output_type": "stream",
     "text": [
      "[5068, 4932]\n",
      "[506, 494]\n"
     ]
    },
    {
     "data": {
      "text/plain": [
       "0.49919986941868916"
      ]
     },
     "execution_count": 27,
     "metadata": {},
     "output_type": "execute_result"
    }
   ],
   "source": [
    "\n",
    "obj = bayes()\n",
    "obj.get_fact()\n",
    "obj.get_rej()\n",
    "obj.calc_prob(1)\n",
    "\n"
   ]
  },
  {
   "cell_type": "code",
   "execution_count": 14,
   "metadata": {
    "collapsed": true
   },
   "outputs": [],
   "source": [
    "mylist = [1,2,3,4,5]\n",
    "myarray = np.array([1,2,3,4,5])"
   ]
  },
  {
   "cell_type": "code",
   "execution_count": 17,
   "metadata": {},
   "outputs": [],
   "source": [
    "s1 = sum(myarray/2)"
   ]
  },
  {
   "cell_type": "code",
   "execution_count": 18,
   "metadata": {
    "collapsed": true
   },
   "outputs": [],
   "source": [
    "s2 = []\n",
    "for i in range(len(mylist)) :\n",
    "    s2.append(mylist[i]/2)"
   ]
  },
  {
   "cell_type": "code",
   "execution_count": 19,
   "metadata": {},
   "outputs": [
    {
     "data": {
      "text/plain": [
       "[0.5, 1.0, 1.5, 2.0, 2.5]"
      ]
     },
     "execution_count": 19,
     "metadata": {},
     "output_type": "execute_result"
    }
   ],
   "source": [
    "s2"
   ]
  },
  {
   "cell_type": "code",
   "execution_count": 20,
   "metadata": {},
   "outputs": [
    {
     "data": {
      "text/plain": [
       "7.5"
      ]
     },
     "execution_count": 20,
     "metadata": {},
     "output_type": "execute_result"
    }
   ],
   "source": [
    "sum(s2)"
   ]
  },
  {
   "cell_type": "code",
   "execution_count": 21,
   "metadata": {},
   "outputs": [
    {
     "data": {
      "text/plain": [
       "7.5"
      ]
     },
     "execution_count": 21,
     "metadata": {},
     "output_type": "execute_result"
    }
   ],
   "source": [
    "s1"
   ]
  },
  {
   "cell_type": "code",
   "execution_count": null,
   "metadata": {
    "collapsed": true
   },
   "outputs": [],
   "source": []
  }
 ],
 "metadata": {
  "kernelspec": {
   "display_name": "Python 3",
   "language": "python",
   "name": "python3"
  },
  "language_info": {
   "codemirror_mode": {
    "name": "ipython",
    "version": 3
   },
   "file_extension": ".py",
   "mimetype": "text/x-python",
   "name": "python",
   "nbconvert_exporter": "python",
   "pygments_lexer": "ipython3",
   "version": "3.6.1"
  }
 },
 "nbformat": 4,
 "nbformat_minor": 2
}
