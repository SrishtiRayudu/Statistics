{
 "cells": [
  {
   "cell_type": "code",
   "execution_count": 7,
   "metadata": {
    "collapsed": true
   },
   "outputs": [],
   "source": [
    "import pandas as pd\n",
    "import numpy as np"
   ]
  },
  {
   "cell_type": "code",
   "execution_count": 8,
   "metadata": {},
   "outputs": [
    {
     "data": {
      "text/html": [
       "<div>\n",
       "<style>\n",
       "    .dataframe thead tr:only-child th {\n",
       "        text-align: right;\n",
       "    }\n",
       "\n",
       "    .dataframe thead th {\n",
       "        text-align: left;\n",
       "    }\n",
       "\n",
       "    .dataframe tbody tr th {\n",
       "        vertical-align: top;\n",
       "    }\n",
       "</style>\n",
       "<table border=\"1\" class=\"dataframe\">\n",
       "  <thead>\n",
       "    <tr style=\"text-align: right;\">\n",
       "      <th></th>\n",
       "      <th>Outlook</th>\n",
       "      <th>Temperature</th>\n",
       "      <th>Humidity</th>\n",
       "      <th>Windy</th>\n",
       "      <th>Play</th>\n",
       "    </tr>\n",
       "  </thead>\n",
       "  <tbody>\n",
       "    <tr>\n",
       "      <th>0</th>\n",
       "      <td>Rainy</td>\n",
       "      <td>Hot</td>\n",
       "      <td>High</td>\n",
       "      <td>False</td>\n",
       "      <td>No</td>\n",
       "    </tr>\n",
       "    <tr>\n",
       "      <th>1</th>\n",
       "      <td>Rainy</td>\n",
       "      <td>Hot</td>\n",
       "      <td>High</td>\n",
       "      <td>True</td>\n",
       "      <td>No</td>\n",
       "    </tr>\n",
       "    <tr>\n",
       "      <th>2</th>\n",
       "      <td>Overcast</td>\n",
       "      <td>Hot</td>\n",
       "      <td>High</td>\n",
       "      <td>False</td>\n",
       "      <td>Yes</td>\n",
       "    </tr>\n",
       "    <tr>\n",
       "      <th>3</th>\n",
       "      <td>Sunny</td>\n",
       "      <td>Mild</td>\n",
       "      <td>High</td>\n",
       "      <td>False</td>\n",
       "      <td>Yes</td>\n",
       "    </tr>\n",
       "    <tr>\n",
       "      <th>4</th>\n",
       "      <td>Sunny</td>\n",
       "      <td>Cool</td>\n",
       "      <td>Normal</td>\n",
       "      <td>False</td>\n",
       "      <td>Yes</td>\n",
       "    </tr>\n",
       "    <tr>\n",
       "      <th>5</th>\n",
       "      <td>Sunny</td>\n",
       "      <td>Cool</td>\n",
       "      <td>Normal</td>\n",
       "      <td>True</td>\n",
       "      <td>No</td>\n",
       "    </tr>\n",
       "    <tr>\n",
       "      <th>6</th>\n",
       "      <td>Overcast</td>\n",
       "      <td>Cool</td>\n",
       "      <td>Normal</td>\n",
       "      <td>True</td>\n",
       "      <td>Yes</td>\n",
       "    </tr>\n",
       "    <tr>\n",
       "      <th>7</th>\n",
       "      <td>Rainy</td>\n",
       "      <td>Mild</td>\n",
       "      <td>High</td>\n",
       "      <td>False</td>\n",
       "      <td>No</td>\n",
       "    </tr>\n",
       "    <tr>\n",
       "      <th>8</th>\n",
       "      <td>Rainy</td>\n",
       "      <td>Cool</td>\n",
       "      <td>Normal</td>\n",
       "      <td>False</td>\n",
       "      <td>Yes</td>\n",
       "    </tr>\n",
       "    <tr>\n",
       "      <th>9</th>\n",
       "      <td>Sunny</td>\n",
       "      <td>Mild</td>\n",
       "      <td>Normal</td>\n",
       "      <td>False</td>\n",
       "      <td>Yes</td>\n",
       "    </tr>\n",
       "    <tr>\n",
       "      <th>10</th>\n",
       "      <td>Rainy</td>\n",
       "      <td>Mild</td>\n",
       "      <td>Normal</td>\n",
       "      <td>True</td>\n",
       "      <td>Yes</td>\n",
       "    </tr>\n",
       "    <tr>\n",
       "      <th>11</th>\n",
       "      <td>Overcast</td>\n",
       "      <td>Mild</td>\n",
       "      <td>High</td>\n",
       "      <td>True</td>\n",
       "      <td>Yes</td>\n",
       "    </tr>\n",
       "    <tr>\n",
       "      <th>12</th>\n",
       "      <td>Overcast</td>\n",
       "      <td>Hot</td>\n",
       "      <td>Normal</td>\n",
       "      <td>False</td>\n",
       "      <td>Yes</td>\n",
       "    </tr>\n",
       "    <tr>\n",
       "      <th>13</th>\n",
       "      <td>Sunny</td>\n",
       "      <td>Mild</td>\n",
       "      <td>High</td>\n",
       "      <td>True</td>\n",
       "      <td>No</td>\n",
       "    </tr>\n",
       "  </tbody>\n",
       "</table>\n",
       "</div>"
      ],
      "text/plain": [
       "     Outlook Temperature Humidity  Windy Play\n",
       "0      Rainy         Hot     High  False   No\n",
       "1      Rainy         Hot     High   True   No\n",
       "2   Overcast         Hot     High  False  Yes\n",
       "3      Sunny        Mild     High  False  Yes\n",
       "4      Sunny        Cool   Normal  False  Yes\n",
       "5      Sunny        Cool   Normal   True   No\n",
       "6   Overcast        Cool   Normal   True  Yes\n",
       "7      Rainy        Mild     High  False   No\n",
       "8      Rainy        Cool   Normal  False  Yes\n",
       "9      Sunny        Mild   Normal  False  Yes\n",
       "10     Rainy        Mild   Normal   True  Yes\n",
       "11  Overcast        Mild     High   True  Yes\n",
       "12  Overcast         Hot   Normal  False  Yes\n",
       "13     Sunny        Mild     High   True   No"
      ]
     },
     "execution_count": 8,
     "metadata": {},
     "output_type": "execute_result"
    }
   ],
   "source": [
    "df = pd.read_csv(r'D:\\Srishti\\Stats\\Naive_Bayes.csv')\n",
    "df.columns =['Outlook', 'Temperature','Humidity','Windy','Play','extra']\n",
    "df =df.drop(['extra'],axis =1)\n",
    "df"
   ]
  },
  {
   "cell_type": "code",
   "execution_count": 9,
   "metadata": {
    "collapsed": true
   },
   "outputs": [],
   "source": [
    "outlook_rainy_yes = df.loc[(df.Outlook=='Rainy')  & (df.Play=='Yes'), 'Play'].count()\n",
    "outlook_rainy_no = df.loc[(df.Outlook=='Rainy')  & (df.Play=='No'), 'Play'].count()\n",
    "outlook_rainy = df.loc[(df.Outlook=='Rainy'),'Play'].count()\n",
    "\n",
    "outlook_sunny_yes = df.loc[(df.Outlook=='Sunny')  & (df.Play=='Yes'), 'Play'].count()\n",
    "outlook_sunny_no = df.loc[(df.Outlook=='Sunny')  & (df.Play=='No'), 'Play'].count()\n",
    "outlook_sunny = df.loc[(df.Outlook=='Sunny'), 'Play'].count()\n",
    "\n",
    "outlook_overcast_yes = df.loc[(df.Outlook=='Overcast')  & (df.Play=='Yes'), 'Play'].count()\n",
    "outlook_overcast_no = df.loc[(df.Outlook=='Overcast')  & (df.Play=='No'), 'Play'].count()\n",
    "\n",
    "temp_hot_yes = df.loc[(df.Temperature=='Hot')  & (df.Play=='Yes'), 'Play'].count()\n",
    "temp_hot_no = df.loc[(df.Temperature=='Hot')  & (df.Play=='No'), 'Play'].count()\n",
    "temp_hot = df.loc[(df.Temperature=='Hot'),'Play'].count()\n",
    "\n",
    "temp_cool_yes = df.loc[(df.Temperature=='Cool')  & (df.Play=='Yes'), 'Play'].count()\n",
    "temp_cool_no = df.loc[(df.Temperature=='Cool')  & (df.Play=='No'), 'Play'].count()\n",
    "\n",
    "temp_mild_yes = df.loc[(df.Temperature=='Mild')  & (df.Play=='Yes'), 'Play'].count()\n",
    "temp_mild_no = df.loc[(df.Temperature=='Mild')  & (df.Play=='No'), 'Play'].count()\n",
    "\n",
    "humidity_high_yes = df.loc[(df.Humidity=='High')  & (df.Play=='Yes'), 'Play'].count()\n",
    "humidity_high_no = df.loc[(df.Humidity=='High')  & (df.Play=='No'), 'Play'].count()\n",
    "humidity_high = df.loc[(df.Humidity=='High'), 'Play'].count()\n",
    "\n",
    "humidity_normal_yes = df.loc[(df.Humidity=='Normal')  & (df.Play=='Yes'), 'Play'].count()\n",
    "humidity_normal_no = df.loc[(df.Humidity=='Normal')  & (df.Play=='No'), 'Play'].count()\n",
    "humidity_normal = df.loc[(df.Humidity=='Normal'), 'Play'].count()\n",
    "\n",
    "windy_true_yes = df.loc[(df.Windy==True)  & (df.Play=='Yes'), 'Play'].count()\n",
    "windy_true_no = df.loc[(df.Windy==True)  & (df.Play=='No'), 'Play'].count()\n",
    "windy_true = df.loc[(df.Windy==True), 'Play'].count()\n",
    "\n",
    "windy_false_yes = df.loc[(df.Windy==False)  & (df.Play=='Yes'), 'Play'].count()\n",
    "windy_false_no = df.loc[(df.Windy==False)  & (df.Play=='No'), 'Play'].count()\n",
    "windy_false = df.loc[(df.Windy==False), 'Play'].count()\n",
    "\n",
    "play_yes = df.loc[(df.Play=='Yes'), 'Play'].count()\n",
    "play_no = df.loc[(df.Play=='No'), 'Play'].count()"
   ]
  },
  {
   "cell_type": "code",
   "execution_count": 13,
   "metadata": {
    "collapsed": true
   },
   "outputs": [],
   "source": [
    "yes =(outlook_rainy_yes/play_yes) * (temp_hot_yes/play_yes) * (humidity_normal_yes/play_yes) * (windy_false_yes/play_yes)* (play_yes/ (play_yes+play_no))"
   ]
  },
  {
   "cell_type": "code",
   "execution_count": 14,
   "metadata": {
    "collapsed": true
   },
   "outputs": [],
   "source": [
    "no =(outlook_rainy_yes/play_no) * (temp_hot_yes/play_no) * (humidity_normal_yes/play_no) * (windy_false_yes/play_no) * (play_no/(play_no +play_yes))"
   ]
  },
  {
   "cell_type": "code",
   "execution_count": 15,
   "metadata": {},
   "outputs": [
    {
     "data": {
      "text/plain": [
       "(0.014109347442680773, 0.0822857142857143)"
      ]
     },
     "execution_count": 15,
     "metadata": {},
     "output_type": "execute_result"
    }
   ],
   "source": [
    "yes,no"
   ]
  },
  {
   "cell_type": "code",
   "execution_count": null,
   "metadata": {
    "collapsed": true
   },
   "outputs": [],
   "source": []
  },
  {
   "cell_type": "code",
   "execution_count": null,
   "metadata": {
    "collapsed": true
   },
   "outputs": [],
   "source": []
  },
  {
   "cell_type": "code",
   "execution_count": null,
   "metadata": {
    "collapsed": true
   },
   "outputs": [],
   "source": []
  },
  {
   "cell_type": "code",
   "execution_count": null,
   "metadata": {
    "collapsed": true
   },
   "outputs": [],
   "source": []
  },
  {
   "cell_type": "code",
   "execution_count": null,
   "metadata": {
    "collapsed": true
   },
   "outputs": [],
   "source": []
  },
  {
   "cell_type": "code",
   "execution_count": null,
   "metadata": {
    "collapsed": true
   },
   "outputs": [],
   "source": []
  },
  {
   "cell_type": "code",
   "execution_count": null,
   "metadata": {
    "collapsed": true
   },
   "outputs": [],
   "source": []
  },
  {
   "cell_type": "code",
   "execution_count": null,
   "metadata": {
    "collapsed": true
   },
   "outputs": [],
   "source": []
  },
  {
   "cell_type": "code",
   "execution_count": null,
   "metadata": {
    "collapsed": true
   },
   "outputs": [],
   "source": []
  },
  {
   "cell_type": "code",
   "execution_count": null,
   "metadata": {
    "collapsed": true
   },
   "outputs": [],
   "source": []
  },
  {
   "cell_type": "code",
   "execution_count": null,
   "metadata": {
    "collapsed": true
   },
   "outputs": [],
   "source": []
  },
  {
   "cell_type": "code",
   "execution_count": 11,
   "metadata": {
    "collapsed": true
   },
   "outputs": [],
   "source": [
    "p_yes =yes / ((outlook_sunny/len(df))*(temp_hot/len(df))*(humidity_normal/len(df))*(windy_false/len(df)))"
   ]
  },
  {
   "cell_type": "code",
   "execution_count": 12,
   "metadata": {
    "collapsed": true
   },
   "outputs": [],
   "source": [
    "p_no =no / ((outlook_sunny/len(df))*(temp_hot/len(df))*(humidity_normal/len(df))*(windy_false/len(df)))"
   ]
  },
  {
   "cell_type": "code",
   "execution_count": 13,
   "metadata": {},
   "outputs": [
    {
     "data": {
      "text/plain": [
       "(0.7259259259259259, 4.2336)"
      ]
     },
     "execution_count": 13,
     "metadata": {},
     "output_type": "execute_result"
    }
   ],
   "source": [
    "p_yes, p_no"
   ]
  },
  {
   "cell_type": "code",
   "execution_count": null,
   "metadata": {
    "collapsed": true
   },
   "outputs": [],
   "source": []
  }
 ],
 "metadata": {
  "kernelspec": {
   "display_name": "Python 3",
   "language": "python",
   "name": "python3"
  },
  "language_info": {
   "codemirror_mode": {
    "name": "ipython",
    "version": 3
   },
   "file_extension": ".py",
   "mimetype": "text/x-python",
   "name": "python",
   "nbconvert_exporter": "python",
   "pygments_lexer": "ipython3",
   "version": "3.6.1"
  }
 },
 "nbformat": 4,
 "nbformat_minor": 2
}
