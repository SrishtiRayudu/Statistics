{
 "cells": [
  {
   "cell_type": "code",
   "execution_count": 1,
   "metadata": {
    "collapsed": true
   },
   "outputs": [],
   "source": [
    "import numpy as np"
   ]
  },
  {
   "cell_type": "code",
   "execution_count": 2,
   "metadata": {},
   "outputs": [
    {
     "name": "stdout",
     "output_type": "stream",
     "text": [
      "3.0\n"
     ]
    },
    {
     "data": {
      "text/plain": [
       "[1.0, 4.0, 7.0, 10.0]"
      ]
     },
     "execution_count": 2,
     "metadata": {},
     "output_type": "execute_result"
    }
   ],
   "source": [
    "x = [1,2,3,4,5,6,7,8,9,10]\n",
    "bins = 3\n",
    "jumps = (max(x) - min(x))/bins\n",
    "print(jumps)\n",
    "bucket = []\n",
    "for i in np.arange(min(x), max(x)+jumps, jumps):    \n",
    "    bucket.append(i)\n",
    "bucket"
   ]
  },
  {
   "cell_type": "code",
   "execution_count": 3,
   "metadata": {},
   "outputs": [
    {
     "name": "stdout",
     "output_type": "stream",
     "text": [
      "10\n",
      "10\n",
      "10\n"
     ]
    }
   ],
   "source": [
    "freq=[]\n",
    "for i in range(len(bucket)-1):\n",
    "    ctr = 0\n",
    "    iter = 0\n",
    "    for j in x:\n",
    "        iter = iter +1\n",
    "        if (i== len(bucket)-2) and (j>= bucket[i]) and (j<= bucket[i+1]):\n",
    "            ctr +=1\n",
    "            \n",
    "        else:\n",
    "            if (j>= bucket[i]) and (j< bucket[i+1]):\n",
    "                ctr +=1\n",
    "    print(iter)\n",
    "    freq.append(ctr)"
   ]
  },
  {
   "cell_type": "code",
   "execution_count": 52,
   "metadata": {},
   "outputs": [
    {
     "data": {
      "text/plain": [
       "[3, 3, 4]"
      ]
     },
     "execution_count": 52,
     "metadata": {},
     "output_type": "execute_result"
    }
   ],
   "source": [
    "freq"
   ]
  },
  {
   "cell_type": "code",
   "execution_count": null,
   "metadata": {
    "collapsed": true
   },
   "outputs": [],
   "source": []
  },
  {
   "cell_type": "code",
   "execution_count": 27,
   "metadata": {
    "collapsed": true
   },
   "outputs": [],
   "source": [
    "x = [10,20,30,40,50,60,70,80]\n",
    "bins = 8\n",
    "jumps = (max(x) - min(x))/bins\n",
    "bucket = []\n",
    "for i in np.arange(min(x), max(x)+jumps, jumps):\n",
    "    bucket.append(i)"
   ]
  },
  {
   "cell_type": "code",
   "execution_count": 62,
   "metadata": {
    "collapsed": true
   },
   "outputs": [],
   "source": [
    "freq=[]\n",
    "a = [np.NINF]\n",
    "bucket1 = a +bucket\n",
    "for i in range(len(bucket1)-1):\n",
    "    ctr = 0\n",
    "    for j in x:\n",
    "        if ((j> bucket1[i]) and (j<= bucket1[i+1])):\n",
    "            ctr +=1\n",
    "                            \n",
    "    freq.append(ctr)"
   ]
  },
  {
   "cell_type": "code",
   "execution_count": 63,
   "metadata": {},
   "outputs": [
    {
     "data": {
      "text/plain": [
       "[1, 3, 3, 3]"
      ]
     },
     "execution_count": 63,
     "metadata": {},
     "output_type": "execute_result"
    }
   ],
   "source": [
    "freq"
   ]
  },
  {
   "cell_type": "code",
   "execution_count": null,
   "metadata": {
    "collapsed": true
   },
   "outputs": [],
   "source": []
  }
 ],
 "metadata": {
  "kernelspec": {
   "display_name": "Python 3",
   "language": "python",
   "name": "python3"
  },
  "language_info": {
   "codemirror_mode": {
    "name": "ipython",
    "version": 3
   },
   "file_extension": ".py",
   "mimetype": "text/x-python",
   "name": "python",
   "nbconvert_exporter": "python",
   "pygments_lexer": "ipython3",
   "version": "3.6.1"
  }
 },
 "nbformat": 4,
 "nbformat_minor": 2
}
