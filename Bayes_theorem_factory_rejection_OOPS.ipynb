{
 "cells": [
  {
   "cell_type": "code",
   "execution_count": 8,
   "metadata": {
    "collapsed": true
   },
   "outputs": [],
   "source": [
    "import numpy as np"
   ]
  },
  {
   "cell_type": "code",
   "execution_count": 40,
   "metadata": {},
   "outputs": [],
   "source": [
    "class bayes:\n",
    "    def get_fact(self):\n",
    "        gen_fact = [[] for i in range (2)]\n",
    "        for i in range (10000):\n",
    "            gen_fact[np.random.randint(0,2,1)[0]].append(1)\n",
    "\n",
    "        self.factory = [ sum(i) for i in gen_fact]\n",
    "        self.factory = np.array(self.factory)\n",
    "        print(self.factory)\n",
    "\n",
    "    def get_rej(self):\n",
    "        gen_rej = [[] for i in range (2)]\n",
    "        for i in range(1000):\n",
    "            gen_rej[np.random.randint(0,2,1)[0]].append(1)\n",
    "\n",
    "        self.rejection  = [ sum(i) for i in gen_rej]\n",
    "        self.rejection = np.array(self.rejection)\n",
    "        print(self.rejection)\n",
    "\n",
    "    def calc_prob(self):\n",
    "        self.n =[]\n",
    "        for i in range (2):\n",
    "            self.n.append((1/2*(self.rejection[i -1]/ self.factory[i-1])))\n",
    "        self.d = np.array(1/2*(sum(self.rejection/ self.factory)))\n",
    "        self.p = self.n/self.d\n",
    "        "
   ]
  },
  {
   "cell_type": "code",
   "execution_count": 41,
   "metadata": {},
   "outputs": [
    {
     "name": "stdout",
     "output_type": "stream",
     "text": [
      "[4999 5001]\n",
      "[493 507]\n",
      "[0.50690002 0.49309998]\n"
     ]
    }
   ],
   "source": [
    "\n",
    "obj = bayes()\n",
    "obj.get_fact()\n",
    "obj.get_rej()\n",
    "obj.calc_prob()\n",
    "print(obj.p)\n"
   ]
  },
  {
   "cell_type": "code",
   "execution_count": null,
   "metadata": {
    "collapsed": true
   },
   "outputs": [],
   "source": []
  }
 ],
 "metadata": {
  "kernelspec": {
   "display_name": "Python 3",
   "language": "python",
   "name": "python3"
  },
  "language_info": {
   "codemirror_mode": {
    "name": "ipython",
    "version": 3
   },
   "file_extension": ".py",
   "mimetype": "text/x-python",
   "name": "python",
   "nbconvert_exporter": "python",
   "pygments_lexer": "ipython3",
   "version": "3.6.1"
  }
 },
 "nbformat": 4,
 "nbformat_minor": 2
}
